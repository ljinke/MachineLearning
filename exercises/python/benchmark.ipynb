{
 "cells": [
  {
   "cell_type": "code",
   "execution_count": 3,
   "metadata": {
    "collapsed": false
   },
   "outputs": [
    {
     "name": "stdout",
     "output_type": "stream",
     "text": [
      "1.27108192444\n",
      "1.53592514992\n"
     ]
    }
   ],
   "source": [
    "import time\n",
    "\n",
    "data = [\"carrot\", \"apple\", \"peach\", \"nectarine\"]\n",
    "start = time.time()\n",
    "\n",
    "# Version 1 - sorted views: use sort and reverse.\n",
    "i = 0\n",
    "while i < 1000000:\n",
    "    v = 0\n",
    "    data.sort()\n",
    "    for element in data:\n",
    "        v += 1\n",
    "    data.reverse()\n",
    "    for element in data:\n",
    "        v += 1\n",
    "    i += 1\n",
    "\n",
    "end = time.time()\n",
    "\n",
    "print end - start\n",
    "\n",
    "# Version 2: use sorted and reversed.\n",
    "\n",
    "start = time.time()\n",
    "i = 0\n",
    "while i < 1000000:\n",
    "    v = 0\n",
    "    for element in sorted(data):\n",
    "        v += 1\n",
    "    for element in reversed(data):\n",
    "        v += 1\n",
    "    i += 1\n",
    "\n",
    "end = time.time()\n",
    "print end-start"
   ]
  },
  {
   "cell_type": "code",
   "execution_count": 6,
   "metadata": {
    "collapsed": false
   },
   "outputs": [],
   "source": [
    "import benchmark\n",
    "\n",
    "import math"
   ]
  }
 ],
 "metadata": {
  "kernelspec": {
   "display_name": "Python 2",
   "language": "python",
   "name": "python2"
  },
  "language_info": {
   "codemirror_mode": {
    "name": "ipython",
    "version": 2
   },
   "file_extension": ".py",
   "mimetype": "text/x-python",
   "name": "python",
   "nbconvert_exporter": "python",
   "pygments_lexer": "ipython2",
   "version": "2.7.10"
  }
 },
 "nbformat": 4,
 "nbformat_minor": 1
}
