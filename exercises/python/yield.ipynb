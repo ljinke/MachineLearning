{
 "cells": [
  {
   "cell_type": "code",
   "execution_count": 1,
   "metadata": {
    "collapsed": false
   },
   "outputs": [
    {
     "name": "stdout",
     "output_type": "stream",
     "text": [
      "8\n",
      "10\n"
     ]
    }
   ],
   "source": [
    "#closure\n",
    "def adder(outer_argument): # outer function\n",
    "  def adder_inner(inner_argument): # inner function, nested function\n",
    "    return outer_argument + inner_argument # Notice outer_argument\n",
    "  return adder_inner\n",
    "add5 = adder(5) # a function that adds 5 to its argument\n",
    "add7 = adder(7) # a function that adds 7 to its argument\n",
    "print add5(3) # prints 8\n",
    "print add7(3) # prints 10"
   ]
  },
  {
   "cell_type": "code",
   "execution_count": 4,
   "metadata": {
    "collapsed": false
   },
   "outputs": [
    {
     "name": "stdout",
     "output_type": "stream",
     "text": [
      "1\n",
      "2\n",
      "3\n",
      "5\n",
      "6\n",
      "7\n"
     ]
    }
   ],
   "source": [
    "#yield\n",
    "def concat(a, b) :\n",
    "    for i in a :\n",
    "        yield i\n",
    "    #end for\n",
    "    for i in b :\n",
    "        yield i\n",
    "        \n",
    "for i in concat([1,2,3], [5,6,7]):\n",
    "    print i"
   ]
  },
  {
   "cell_type": "code",
   "execution_count": 10,
   "metadata": {
    "collapsed": false
   },
   "outputs": [
    {
     "data": {
      "text/plain": [
       "2"
      ]
     },
     "execution_count": 10,
     "metadata": {},
     "output_type": "execute_result"
    }
   ],
   "source": [
    "f = lambda x: x[1]\n",
    "f((1,2))"
   ]
  }
 ],
 "metadata": {
  "kernelspec": {
   "display_name": "Python 2",
   "language": "python",
   "name": "python2"
  },
  "language_info": {
   "codemirror_mode": {
    "name": "ipython",
    "version": 2
   },
   "file_extension": ".py",
   "mimetype": "text/x-python",
   "name": "python",
   "nbconvert_exporter": "python",
   "pygments_lexer": "ipython2",
   "version": "2.7.10"
  }
 },
 "nbformat": 4,
 "nbformat_minor": 1
}
