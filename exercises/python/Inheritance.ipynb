{
 "cells": [
  {
   "cell_type": "code",
   "execution_count": 8,
   "metadata": {
    "collapsed": true
   },
   "outputs": [],
   "source": [
    "class Counter(object): \n",
    "    number = 0 \n",
    " \n",
    "    def __init__(self): \n",
    "        type(self).number += 1 \n",
    " \n",
    "    def __del__(self): \n",
    "        type(self).number -= 1\n",
    "\n",
    "class Account(Counter): \n",
    "    def __init__(self, \n",
    "                 account_holder,\n",
    "                 account_number, \n",
    "                 balance, \n",
    "                 account_current=1500): \n",
    "        Counter.__init__(self)\n",
    "        self.account_holder = account_holder\n",
    "        self.account_number = account_number\n",
    "        self.balance = balance\n",
    "        self.account_current=account_current"
   ]
  },
  {
   "cell_type": "markdown",
   "metadata": {},
   "source": [
    "![Inheritance](http://www.python-course.eu/images/inheritance_overview.png)"
   ]
  },
  {
   "cell_type": "code",
   "execution_count": 13,
   "metadata": {
    "collapsed": false
   },
   "outputs": [
    {
     "data": {
      "text/plain": [
       "1"
      ]
     },
     "execution_count": 13,
     "metadata": {},
     "output_type": "execute_result"
    }
   ],
   "source": [
    "c = Counter()\n",
    "# class variable\n",
    "Counter.number"
   ]
  },
  {
   "cell_type": "code",
   "execution_count": 14,
   "metadata": {
    "collapsed": false
   },
   "outputs": [
    {
     "data": {
      "text/plain": [
       "2"
      ]
     },
     "execution_count": 14,
     "metadata": {},
     "output_type": "execute_result"
    }
   ],
   "source": [
    "a = Account(\"Tom\", 3384, 1000)\n",
    "Account.number"
   ]
  },
  {
   "cell_type": "code",
   "execution_count": 15,
   "metadata": {
    "collapsed": false
   },
   "outputs": [
    {
     "data": {
      "text/plain": [
       "1000"
      ]
     },
     "execution_count": 15,
     "metadata": {},
     "output_type": "execute_result"
    }
   ],
   "source": [
    "# instance variable\n",
    "a.balance\n",
    "a.account_current"
   ]
  }
 ],
 "metadata": {
  "kernelspec": {
   "display_name": "Python 2",
   "language": "python",
   "name": "python2"
  },
  "language_info": {
   "codemirror_mode": {
    "name": "ipython",
    "version": 2
   },
   "file_extension": ".py",
   "mimetype": "text/x-python",
   "name": "python",
   "nbconvert_exporter": "python",
   "pygments_lexer": "ipython2",
   "version": "2.7.10"
  }
 },
 "nbformat": 4,
 "nbformat_minor": 1
}
