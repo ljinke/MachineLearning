{
 "cells": [
  {
   "cell_type": "code",
   "execution_count": 50,
   "metadata": {
    "collapsed": false
   },
   "outputs": [],
   "source": [
    "users = {\"Angelica\": {\"Blues Traveler\": 3.5, \"Broken Bells\": 2.0,\n",
    "                      \"Norah Jones\": 4.5, \"Phoenix\": 5.0, \n",
    "                      \"Slightly Stoopid\": 1.5,\n",
    "                      \"The Strokes\": 2.5, \"Vampire Weekend\": 2.0},\n",
    "        \"Bill\": {\"Blues Traveler\": 2.0, \"Broken Bells\": 3.5,\n",
    "                 \"Deadmau5\": 4.0, \"Phoenix\": 2.0,\n",
    "                 \"Slightly Stoopid\": 3.5, \"Vampire Weekend\": 3.0},\n",
    "        \"Chan\": {\"Blues Traveler\": 5.0, \"Broken Bells\": 1.0,\n",
    "                \"Deadmau5\": 1.0, \"Norah Jones\": 3.0,\n",
    "                \"Phoenix\": 5, \"Slightly Stoopid\": 1.0},\n",
    "        \"Dan\": {\"Blues Traveler\": 3.0, \"Broken Bells\": 4.0,\n",
    "                \"Deadmau5\": 4.5, \"Phoenix\": 3.0,\n",
    "                \"Slightly Stoopid\": 4.5, \"The Strokes\": 4.0,\n",
    "                \"Vampire Weekend\": 2.0},\n",
    "        \"Hailey\": {\"Broken Bells\": 4.0, \"Deadmau5\": 1.0,\n",
    "                    \"Norah Jones\": 4.0, \"The Strokes\": 4.0,\n",
    "                    \"Vampire Weekend\": 1.0},\n",
    "                    \"Jordyn\": {\"Broken Bells\": 4.5, \"Deadmau5\": 4.0, \"Norah Jones\": 5.0,\n",
    "                    \"Phoenix\": 5.0, \"Slightly Stoopid\": 4.5,\n",
    "                    \"The Strokes\": 4.0, \"Vampire Weekend\": 4.0},\n",
    "        \"Sam\": {\"Blues Traveler\": 5.0, \"Broken Bells\": 2.0,\n",
    "                \"Norah Jones\": 3.0, \"Phoenix\": 5.0,\n",
    "                \"Slightly Stoopid\": 4.0, \"The Strokes\": 5.0},\n",
    "        \"Veronica\": {\"Blues Traveler\": 3.0, \"Norah Jones\": 5.0,\n",
    "                    \"Phoenix\": 4.0, \"Slightly Stoopid\": 2.5,\n",
    "                    \"The Strokes\": 3.0}}"
   ]
  },
  {
   "cell_type": "markdown",
   "metadata": {},
   "source": [
    "|  |      Angelica      |  Bill | Differences|\n",
    "|----------|:------:|:-------:|------:|\n",
    "|Blues Traveler |3.5| 2| 1.5|\n",
    "|Broken Bells |2| 3.5| 1.5|\n",
    "|Deadmau|5| - |-|\n",
    "|Norah Jones |4.5| -||\n",
    "|Phoenix |5| 2| 3|\n",
    "|Slightly Stoopid |1.5 |3.5| 2|\n",
    "|The Strokes |2.5| -| -|\n",
    "|Vampire Weekend| 2| 3| 1|\n",
    "|Manhattan Distance:|||9|"
   ]
  },
  {
   "cell_type": "code",
   "execution_count": 51,
   "metadata": {
    "collapsed": false
   },
   "outputs": [],
   "source": [
    "rating1 = users[\"Angelica\"]"
   ]
  },
  {
   "cell_type": "code",
   "execution_count": 52,
   "metadata": {
    "collapsed": true
   },
   "outputs": [],
   "source": [
    "rating2 = users[\"Bill\"]"
   ]
  },
  {
   "cell_type": "code",
   "execution_count": 53,
   "metadata": {
    "collapsed": false
   },
   "outputs": [],
   "source": [
    "def manhattan(rating1, rating2):\n",
    "    distance = 0\n",
    "    for key in rating1:\n",
    "        if key in rating2:\n",
    "            #print key\n",
    "            distance += abs(rating1[key] - rating2[key])\n",
    "    return distance"
   ]
  },
  {
   "cell_type": "code",
   "execution_count": 54,
   "metadata": {
    "collapsed": false
   },
   "outputs": [
    {
     "data": {
      "text/plain": [
       "9.0"
      ]
     },
     "execution_count": 54,
     "metadata": {},
     "output_type": "execute_result"
    }
   ],
   "source": [
    "manhattan(rating1, rating2)"
   ]
  },
  {
   "cell_type": "code",
   "execution_count": 66,
   "metadata": {
    "collapsed": true
   },
   "outputs": [],
   "source": [
    "def computeNearestNeighbor(username, users):\n",
    "    distances = []\n",
    "    for user in users:\n",
    "        if user != username:\n",
    "            distance = manhattan(users[username], users[user])\n",
    "            distances.append((distance, user))\n",
    "    distances.sort()\n",
    "    return distances"
   ]
  },
  {
   "cell_type": "code",
   "execution_count": 67,
   "metadata": {
    "collapsed": false
   },
   "outputs": [
    {
     "data": {
      "text/plain": [
       "[(3.5, 'Veronica'),\n",
       " (4.5, 'Chan'),\n",
       " (5.0, 'Hailey'),\n",
       " (8.0, 'Sam'),\n",
       " (9.0, 'Bill'),\n",
       " (9.0, 'Dan'),\n",
       " (9.5, 'Jordyn')]"
      ]
     },
     "execution_count": 67,
     "metadata": {},
     "output_type": "execute_result"
    }
   ],
   "source": [
    "computeNearestNeighbor(\"Angelica\", users)"
   ]
  },
  {
   "cell_type": "code",
   "execution_count": 68,
   "metadata": {
    "collapsed": false
   },
   "outputs": [
    {
     "data": {
      "text/plain": [
       "[(2.0, 'Veronica'),\n",
       " (4.0, 'Chan'),\n",
       " (4.0, 'Sam'),\n",
       " (4.5, 'Dan'),\n",
       " (5.0, 'Angelica'),\n",
       " (5.5, 'Bill'),\n",
       " (7.5, 'Jordyn')]"
      ]
     },
     "execution_count": 68,
     "metadata": {},
     "output_type": "execute_result"
    }
   ],
   "source": [
    "computeNearestNeighbor(\"Hailey\", users)"
   ]
  },
  {
   "cell_type": "code",
   "execution_count": 102,
   "metadata": {
    "collapsed": false
   },
   "outputs": [],
   "source": [
    "def recommend(username, nearestFunc):\n",
    "    nearest = nearestFunc(username, users)[0][1]\n",
    "    recommends = []\n",
    "    for artist in users[nearest]:\n",
    "        if not artist in users[username]:\n",
    "            recommends.append((artist, users[nearest][artist]))\n",
    "    return sorted(recommends, key = lambda x: x[1], reverse = True)\n",
    "    #return sorted(recommends, lambda x, y: cmp(x[1], y[1]), reverse = True)"
   ]
  },
  {
   "cell_type": "code",
   "execution_count": 103,
   "metadata": {
    "collapsed": false
   },
   "outputs": [
    {
     "data": {
      "text/plain": [
       "[('Phoenix', 4.0), ('Blues Traveler', 3.0), ('Slightly Stoopid', 2.5)]"
      ]
     },
     "execution_count": 103,
     "metadata": {},
     "output_type": "execute_result"
    }
   ],
   "source": [
    "recommend(\"Hailey\", computeNearestNeighbor)"
   ]
  },
  {
   "cell_type": "code",
   "execution_count": 90,
   "metadata": {
    "collapsed": false
   },
   "outputs": [
    {
     "data": {
      "text/plain": [
       "[('Norah Jones', 5.0)]"
      ]
     },
     "execution_count": 90,
     "metadata": {},
     "output_type": "execute_result"
    }
   ],
   "source": [
    "recommend(\"Dan\")"
   ]
  },
  {
   "cell_type": "code",
   "execution_count": 114,
   "metadata": {
    "collapsed": true
   },
   "outputs": [],
   "source": [
    "def minkowski(rating1, rating2, r):\n",
    "    distance = 0\n",
    "    for artist in rating1:\n",
    "        if artist in rating2:\n",
    "            distance += pow(abs(rating1[artist] - rating2[artist]), r)\n",
    "    return pow(distance, 1/r)\n",
    "            "
   ]
  },
  {
   "cell_type": "code",
   "execution_count": 115,
   "metadata": {
    "collapsed": false
   },
   "outputs": [
    {
     "data": {
      "text/plain": [
       "9.0"
      ]
     },
     "execution_count": 115,
     "metadata": {},
     "output_type": "execute_result"
    }
   ],
   "source": [
    "minkowski(rating1, rating2, 1)"
   ]
  },
  {
   "cell_type": "code",
   "execution_count": 116,
   "metadata": {
    "collapsed": false
   },
   "outputs": [
    {
     "data": {
      "text/plain": [
       "1.0"
      ]
     },
     "execution_count": 116,
     "metadata": {},
     "output_type": "execute_result"
    }
   ],
   "source": [
    "minkowski(rating1, rating2, 2)"
   ]
  },
  {
   "cell_type": "code",
   "execution_count": 120,
   "metadata": {
    "collapsed": true
   },
   "outputs": [],
   "source": [
    "def euclidean(rating1, rating2):\n",
    "    return minkowski(rating1, rating2, 2)"
   ]
  },
  {
   "cell_type": "code",
   "execution_count": 121,
   "metadata": {
    "collapsed": false
   },
   "outputs": [
    {
     "data": {
      "text/plain": [
       "1.0"
      ]
     },
     "execution_count": 121,
     "metadata": {},
     "output_type": "execute_result"
    }
   ],
   "source": [
    "euclidean(rating1, rating2)"
   ]
  },
  {
   "cell_type": "code",
   "execution_count": null,
   "metadata": {
    "collapsed": true
   },
   "outputs": [],
   "source": []
  }
 ],
 "metadata": {
  "kernelspec": {
   "display_name": "Python 2",
   "language": "python",
   "name": "python2"
  },
  "language_info": {
   "codemirror_mode": {
    "name": "ipython",
    "version": 2
   },
   "file_extension": ".py",
   "mimetype": "text/x-python",
   "name": "python",
   "nbconvert_exporter": "python",
   "pygments_lexer": "ipython2",
   "version": "2.7.10"
  }
 },
 "nbformat": 4,
 "nbformat_minor": 1
}
